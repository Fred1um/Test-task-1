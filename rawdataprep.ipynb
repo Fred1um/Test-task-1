{
 "cells": [
  {
   "cell_type": "code",
   "execution_count": 1,
   "id": "3ee3e560-b5ab-49c2-9620-29ee1cdab9c7",
   "metadata": {},
   "outputs": [
    {
     "name": "stdout",
     "output_type": "stream",
     "text": [
      "Collecting pyspark\n",
      "  Downloading pyspark-3.4.1.tar.gz (310.8 MB)\n",
      "\u001b[2K     \u001b[90m━━━━━━━━━━━━━━━━━━━━━━━━━━━━━━━━━━━━━━━\u001b[0m \u001b[32m310.8/310.8 MB\u001b[0m \u001b[31m6.7 MB/s\u001b[0m eta \u001b[36m0:00:00\u001b[0m00:01\u001b[0m00:01\u001b[0m\n",
      "\u001b[?25h  Preparing metadata (setup.py) ... \u001b[?25ldone\n",
      "\u001b[?25hCollecting py4j==0.10.9.7 (from pyspark)\n",
      "  Downloading py4j-0.10.9.7-py2.py3-none-any.whl (200 kB)\n",
      "\u001b[2K     \u001b[90m━━━━━━━━━━━━━━━━━━━━━━━━━━━━━━━━━━━━━━━\u001b[0m \u001b[32m200.5/200.5 kB\u001b[0m \u001b[31m9.3 MB/s\u001b[0m eta \u001b[36m0:00:00\u001b[0m\n",
      "\u001b[?25hBuilding wheels for collected packages: pyspark\n",
      "  Building wheel for pyspark (setup.py) ... \u001b[?25ldone\n",
      "\u001b[?25h  Created wheel for pyspark: filename=pyspark-3.4.1-py2.py3-none-any.whl size=311285398 sha256=29bc3a79b32f30aacdac67b533f0243298af5dafd651bbcd38a1abf2477688b7\n",
      "  Stored in directory: /home/jovyan/.cache/pip/wheels/e9/b4/d8/38accc42606f6675165423e9f0236f8e825f6b6b6048d6743e\n",
      "Successfully built pyspark\n",
      "Installing collected packages: py4j, pyspark\n",
      "Successfully installed py4j-0.10.9.7 pyspark-3.4.1\n"
     ]
    }
   ],
   "source": [
    "!pip install pyspark"
   ]
  },
  {
   "cell_type": "code",
   "execution_count": 58,
   "id": "8825171d-1cca-447e-a347-6391f11b2c7b",
   "metadata": {},
   "outputs": [],
   "source": [
    "from datetime import date\n",
    "from pathlib import Path\n",
    "from typing import Union\n",
    "from pyspark.sql import SparkSession, DataFrame\n",
    "from pyspark.sql.functions import col, when, expr, lit, concat, to_date, get_json_object, count, desc, asc\n",
    "from pyspark.sql.types import StructType, StructField, StringType, TimestampType, IntegerType, DoubleType\n",
    "from uuid import uuid4\n",
    "import glob\n",
    "import os\n",
    "from datetime import date, timedelta"
   ]
  },
  {
   "cell_type": "code",
   "execution_count": 40,
   "id": "5949e720-c44e-4242-99c0-1e144553cfd9",
   "metadata": {},
   "outputs": [],
   "source": [
    "def prepare_raw_logs(\n",
    "        external_system_name: str,\n",
    "        date: Union[str, date],\n",
    "        raw_logs_path: Union[str, Path],\n",
    "        prepared_logs_path: Union[str, Path]\n",
    ") -> None:\n",
    "    \"\"\"\n",
    "    Внутри функции должно происходить чтение логов с помощью pyspark,\n",
    "    приведение их к общей схеме и запись в директорию с препарированными логами.\n",
    "    Препарированные логи должны быть сгрупированны по internal_app_id и date\n",
    "    \"\"\"\n",
    "    spark = SparkSession\\\n",
    "    .builder\\\n",
    "    .master(\"local[*]\")\\\n",
    "    .appName('PrepareRawLogs')\\\n",
    "    .getOrCreate()\n",
    "\n",
    "    system_path = f\"{raw_logs_path}/external_system_{external_system_name}\"\n",
    "    app_dirs = [name for name in os.listdir(system_path) if os.path.isdir(os.path.join(system_path, name))]\n",
    "    app_id = app_dirs[0].split('=')[1]\n",
    "    df = spark.read.parquet(f\"{raw_logs_path}/external_system_{external_system_name}/application_id={app_id}/date={date}\")\n",
    "    log_schema = StructType([\n",
    "        StructField('external_did', StringType(), True),\n",
    "        StructField('event_name', StringType(), True),\n",
    "        StructField('event_datetime', TimestampType(), True),\n",
    "        StructField('event_json', StringType(), True),\n",
    "        StructField('date', TimestampType(), True),\n",
    "        StructField('push_token', StringType(), True),\n",
    "        StructField('ios_ifa', StringType(), True),\n",
    "        StructField('external_profile_id', StringType(), True),\n",
    "        StructField('external_app_id', StringType(), True),\n",
    "        StructField('external_system', StringType(), True),\n",
    "        StructField('internal_app_id', StringType(), True)])\n",
    "    df_new = spark.createDataFrame([], log_schema)\n",
    "    if external_system_name == '1':\n",
    "        app_uuid = '24a7a8f5-35f0-4c3a-9e51-02c7f62f7f06'\n",
    "        df_new = df.select(df[\"device_id\"].alias(\"external_did\"),\n",
    "                       df[\"event_type\"].alias(\"event_name\"),\n",
    "                       df[\"event_time\"].alias(\"event_datetime\"),\n",
    "                       concat(df[\"user_properties\"], df[\"event_properties\"]).alias(\"event_json\"),\n",
    "                       df[\"event_time\"].cast(\"date\").alias(\"date\"),\n",
    "                       get_json_object(col(\"user_properties\"), \"$.registration_id\").alias(\"push_token\"),\n",
    "                       df[\"idfa\"].alias(\"ios_ifa\"),\n",
    "                       df[\"user_id\"].alias(\"external_profile_id\"),\n",
    "                       lit(app_id).alias(\"external_app_id\"),\n",
    "                       df[\"external_system\"],\n",
    "                       lit(app_uuid).alias(\"internal_app_id\"))\n",
    "    elif external_system_name == '2':\n",
    "        app_uuid = '86ff5d12-55db-4bdf-a849-1b685bdff00b'\n",
    "        df_new = df.select(df[\"uniq_device_id\"].alias(\"external_did\"),\n",
    "                       df[\"event_name\"].alias(\"event_name\"),\n",
    "                       df[\"event_datetime\"].alias(\"event_datetime\"),\n",
    "                       df[\"event_json\"],\n",
    "                       df[\"event_datetime\"].cast(\"date\").alias(\"date\"),\n",
    "                       df[\"uniq_device_id\"].alias(\"push_token\"),\n",
    "                       df[\"ios_ifa\"].alias(\"ios_ifa\"),\n",
    "                       df[\"profile_id\"].alias(\"external_profile_id\"),\n",
    "                       lit(app_id).alias(\"external_app_id\"),\n",
    "                       df[\"external_system\"],\n",
    "                       lit(app_uuid).alias(\"internal_app_id\"))\n",
    "    dirs = prepared_logs_path.split('/')\n",
    "    prepared_logs_path = f'{dirs[0]}/{app_uuid}/{dirs[1]}'\n",
    "    df_new.write.parquet(prepared_logs_path)\n",
    "    df_new.show(10)"
   ]
  },
  {
   "cell_type": "code",
   "execution_count": 47,
   "id": "467516fa-edf0-4cee-8617-156a59cb8414",
   "metadata": {},
   "outputs": [
    {
     "name": "stderr",
     "output_type": "stream",
     "text": [
      "[Stage 131:>                                                        (0 + 1) / 1]\r"
     ]
    },
    {
     "name": "stdout",
     "output_type": "stream",
     "text": [
      "+--------------------+---------------+-------------------+--------------------+----------+--------------------+--------------------+-------------------+---------------+-----------------+--------------------+\n",
      "|        external_did|     event_name|     event_datetime|          event_json|      date|          push_token|             ios_ifa|external_profile_id|external_app_id|  external_system|     internal_app_id|\n",
      "+--------------------+---------------+-------------------+--------------------+----------+--------------------+--------------------+-------------------+---------------+-----------------+--------------------+\n",
      "|bc28aebe94afbb39d...|Debug.Log.error|2023-01-07 16:49:42|{\"event_property_...|2023-01-07|bc28aebe94afbb39d...|3d18d215cb20fe191...|                   |        1178448|external_system_2|86ff5d12-55db-4bd...|\n",
      "|bc28aebe94afbb39d...|   subscription|2023-01-07 16:49:46|{\"event_property_...|2023-01-07|bc28aebe94afbb39d...|3d18d215cb20fe191...|                   |        1178448|external_system_2|86ff5d12-55db-4bd...|\n",
      "|bc28aebe94afbb39d...|          users|2023-01-07 16:49:46|{\"event_property_...|2023-01-07|bc28aebe94afbb39d...|3d18d215cb20fe191...|                   |        1178448|external_system_2|86ff5d12-55db-4bd...|\n",
      "|bc28aebe94afbb39d...|           Cost|2023-01-07 16:49:51|{\"event_property_...|2023-01-07|bc28aebe94afbb39d...|3d18d215cb20fe191...|                   |        1178448|external_system_2|86ff5d12-55db-4bd...|\n",
      "|bc28aebe94afbb39d...|           Cost|2023-01-07 16:49:51|{\"event_property_...|2023-01-07|bc28aebe94afbb39d...|3d18d215cb20fe191...|                   |        1178448|external_system_2|86ff5d12-55db-4bd...|\n",
      "|bc28aebe94afbb39d...|           Cost|2023-01-07 16:49:51|{\"event_property_...|2023-01-07|bc28aebe94afbb39d...|3d18d215cb20fe191...|                   |        1178448|external_system_2|86ff5d12-55db-4bd...|\n",
      "|bc28aebe94afbb39d...|           Cost|2023-01-07 16:49:51|{\"event_property_...|2023-01-07|bc28aebe94afbb39d...|3d18d215cb20fe191...|                   |        1178448|external_system_2|86ff5d12-55db-4bd...|\n",
      "|bc28aebe94afbb39d...|           Cost|2023-01-07 16:49:51|{\"event_property_...|2023-01-07|bc28aebe94afbb39d...|3d18d215cb20fe191...|                   |        1178448|external_system_2|86ff5d12-55db-4bd...|\n",
      "|bc28aebe94afbb39d...|           Cost|2023-01-07 16:49:51|{\"event_property_...|2023-01-07|bc28aebe94afbb39d...|3d18d215cb20fe191...|                   |        1178448|external_system_2|86ff5d12-55db-4bd...|\n",
      "|bc28aebe94afbb39d...|           Cost|2023-01-07 16:49:51|{\"event_property_...|2023-01-07|bc28aebe94afbb39d...|3d18d215cb20fe191...|                   |        1178448|external_system_2|86ff5d12-55db-4bd...|\n",
      "+--------------------+---------------+-------------------+--------------------+----------+--------------------+--------------------+-------------------+---------------+-----------------+--------------------+\n",
      "only showing top 10 rows\n",
      "\n"
     ]
    },
    {
     "name": "stderr",
     "output_type": "stream",
     "text": [
      "                                                                                \r"
     ]
    }
   ],
   "source": [
    "\n",
    "external_system = '2'\n",
    "data_date = date(2023, 1, 7)\n",
    "raw_logs_path = './'\n",
    "prepare_raw_logs(external_system, f'{data_date.strftime(\"%Y-%m-%d\")}', raw_logs_path, f'prepared/{data_date.strftime(\"%Y-%m-%d\")}')"
   ]
  },
  {
   "cell_type": "code",
   "execution_count": 80,
   "id": "aeb8dab6-7bb5-4017-84f0-31d625c28497",
   "metadata": {},
   "outputs": [],
   "source": [
    "def update_devices_table(\n",
    "    internal_app_id: Union[int, str],\n",
    "    date: Union[str, date],\n",
    "    prepared_logs_path: Union[str, Path],\n",
    "    devices_path: Union[str, Path]\n",
    ") -> None:\n",
    "    \"\"\"\n",
    "    date: дата препарированных логов\n",
    "    internal_app_id: идентификатор приложения\n",
    "    prepared_logs_path: путь к директории с препарированными логами\n",
    "    devices_path: путь к директории с таблицами devices\n",
    "    \n",
    "    Внутри функции должно происходить чтение препарированных логов с помощью pyspark\n",
    "    А также чтение таблицы за предыдущий день (если она есть)\n",
    "\n",
    "    В результате должна получиться таблица, содержащая обновленные данные юзеров, которые совершали эвенты за день `date`\n",
    "    Для тех юзеров, которые не совершали эвенты за предыдущий день, данные должны браться из таблицы за предыдущий день.\n",
    "    \n",
    "    Для каждого external_did нужно хранить datetime первого и последнего эвента из препарированных логов,\n",
    "        а также актуальное значение идентификаторов и токенов (последнее ненулевое), если они встречались в логах\n",
    "        \n",
    "    Внутри директории devices таблицы должны быть сгруппированы по internal_app_id и date\n",
    "    \"\"\"\n",
    "    spark = SparkSession\\\n",
    "    .builder\\\n",
    "    .master(\"local[*]\")\\\n",
    "    .appName('UpdateDevicesTable')\\\n",
    "    .getOrCreate()\n",
    "\n",
    "    current_day = data_date.strftime(\"%Y-%m-%d\")\n",
    "    previous_day = (data_date-timedelta(days=1)).strftime(\"%Y-%m-%d\")\n",
    "    \n",
    "    df_current_day = spark.read.parquet(f\"{prepared_logs_path}/{internal_app_id}/{current_day}\")\n",
    "    try:\n",
    "        df_previous_day = spark.read.parquet(f\"{prepared_logs_path}/{internal_app_id}/{previous_day}/\")\n",
    "    except:\n",
    "        pass\n",
    "    df_current_day.show(5)\n",
    "    try:\n",
    "        df_previous_day.show(5)\n",
    "    except:\n",
    "        pass\n",
    "\n",
    "    updated_data_df = df_current_day.alias(\"logs\").join(\n",
    "        previous_day_table_df.alias(\"prev\"),\n",
    "        (col(\"logs.external_did\") == col(\"prev.external_did\")),\n",
    "        \"left\"\n",
    "    ).select(\n",
    "        col(\"logs.external_did\").alias(\"external_did\"),\n",
    "        col(\"logs.event_name\").alias(\"event_name\"),\n",
    "        col(\"logs.event_datetime\").alias(\"event_datetime\"),\n",
    "        col(\"logs.event_json\").alias(\"event_json\"),\n",
    "        col(\"logs.date\").alias(\"date\"),\n",
    "        col(\"logs.push_token\").alias(\"push_token\"),\n",
    "        col(\"logs.ios_ifa\").alias(\"ios_ifa\"),\n",
    "        col(\"logs.external_profile_id\").alias(\"external_profile_id\"),\n",
    "        col(\"logs.external_app_id\").alias(\"external_app_id\"),\n",
    "        col(\"logs.external_system\").alias(\"external_system\"),\n",
    "        col(\"prev.internal_app_id\").alias(\"internal_app_id\")\n",
    "    ).na.fill({\"internal_app_id\": \"UNKNOWN\"})\n",
    "    "
   ]
  },
  {
   "cell_type": "code",
   "execution_count": 82,
   "id": "a790d17e-e41b-4a97-9e7b-024900738896",
   "metadata": {},
   "outputs": [
    {
     "ename": "AnalysisException",
     "evalue": "[PATH_NOT_FOUND] Path does not exist: file:/home/jovyan/prepared/24a7a8f5-35f0-4c3a-9e51-02c7f62f7f06/2023-01-04.",
     "output_type": "error",
     "traceback": [
      "\u001b[0;31m---------------------------------------------------------------------------\u001b[0m",
      "\u001b[0;31mAnalysisException\u001b[0m                         Traceback (most recent call last)",
      "Cell \u001b[0;32mIn[82], line 7\u001b[0m\n\u001b[1;32m      5\u001b[0m logs_path \u001b[38;5;241m=\u001b[39m \u001b[38;5;124m'\u001b[39m\u001b[38;5;124m./prepared/\u001b[39m\u001b[38;5;124m'\u001b[39m\n\u001b[1;32m      6\u001b[0m devices_path \u001b[38;5;241m=\u001b[39m \u001b[38;5;124m'\u001b[39m\u001b[38;5;124mdevices/\u001b[39m\u001b[38;5;124m'\u001b[39m\n\u001b[0;32m----> 7\u001b[0m \u001b[43mupdate_devices_table\u001b[49m\u001b[43m(\u001b[49m\u001b[43mapp_id\u001b[49m\u001b[43m,\u001b[49m\u001b[43m \u001b[49m\u001b[38;5;124;43mf\u001b[39;49m\u001b[38;5;124;43m'\u001b[39;49m\u001b[38;5;132;43;01m{\u001b[39;49;00m\u001b[43mdata_date\u001b[49m\u001b[38;5;241;43m.\u001b[39;49m\u001b[43mstrftime\u001b[49m\u001b[43m(\u001b[49m\u001b[38;5;124;43m\"\u001b[39;49m\u001b[38;5;124;43m%\u001b[39;49m\u001b[38;5;124;43mY-\u001b[39;49m\u001b[38;5;124;43m%\u001b[39;49m\u001b[38;5;124;43mm-\u001b[39;49m\u001b[38;5;132;43;01m%d\u001b[39;49;00m\u001b[38;5;124;43m\"\u001b[39;49m\u001b[43m)\u001b[49m\u001b[38;5;132;43;01m}\u001b[39;49;00m\u001b[38;5;124;43m'\u001b[39;49m\u001b[43m,\u001b[49m\u001b[43m \u001b[49m\u001b[43mlogs_path\u001b[49m\u001b[43m,\u001b[49m\u001b[43m \u001b[49m\u001b[43mdevices_path\u001b[49m\u001b[43m)\u001b[49m\n",
      "Cell \u001b[0;32mIn[80], line 35\u001b[0m, in \u001b[0;36mupdate_devices_table\u001b[0;34m(internal_app_id, date, prepared_logs_path, devices_path)\u001b[0m\n\u001b[1;32m     33\u001b[0m df_current_day \u001b[38;5;241m=\u001b[39m spark\u001b[38;5;241m.\u001b[39mread\u001b[38;5;241m.\u001b[39mparquet(\u001b[38;5;124mf\u001b[39m\u001b[38;5;124m\"\u001b[39m\u001b[38;5;132;01m{\u001b[39;00mprepared_logs_path\u001b[38;5;132;01m}\u001b[39;00m\u001b[38;5;124m/\u001b[39m\u001b[38;5;132;01m{\u001b[39;00minternal_app_id\u001b[38;5;132;01m}\u001b[39;00m\u001b[38;5;124m/\u001b[39m\u001b[38;5;132;01m{\u001b[39;00mcurrent_day\u001b[38;5;132;01m}\u001b[39;00m\u001b[38;5;124m\"\u001b[39m)\n\u001b[1;32m     34\u001b[0m previous_day_table_path \u001b[38;5;241m=\u001b[39m \u001b[38;5;124mf\u001b[39m\u001b[38;5;124m\"\u001b[39m\u001b[38;5;132;01m{\u001b[39;00mprepared_logs_path\u001b[38;5;132;01m}\u001b[39;00m\u001b[38;5;124m/\u001b[39m\u001b[38;5;132;01m{\u001b[39;00minternal_app_id\u001b[38;5;132;01m}\u001b[39;00m\u001b[38;5;124m/\u001b[39m\u001b[38;5;132;01m{\u001b[39;00mprevious_day\u001b[38;5;132;01m}\u001b[39;00m\u001b[38;5;124m/\u001b[39m\u001b[38;5;124m\"\u001b[39m\n\u001b[0;32m---> 35\u001b[0m previous_day_table_df \u001b[38;5;241m=\u001b[39m \u001b[43mspark\u001b[49m\u001b[38;5;241;43m.\u001b[39;49m\u001b[43mread\u001b[49m\u001b[38;5;241;43m.\u001b[39;49m\u001b[43mparquet\u001b[49m\u001b[43m(\u001b[49m\u001b[43mprevious_day_table_path\u001b[49m\u001b[43m)\u001b[49m \u001b[38;5;28;01mif\u001b[39;00m previous_day_table_path \u001b[38;5;28;01melse\u001b[39;00m \u001b[38;5;28;01mNone\u001b[39;00m\n",
      "File \u001b[0;32m/opt/conda/lib/python3.11/site-packages/pyspark/sql/readwriter.py:531\u001b[0m, in \u001b[0;36mDataFrameReader.parquet\u001b[0;34m(self, *paths, **options)\u001b[0m\n\u001b[1;32m    520\u001b[0m int96RebaseMode \u001b[38;5;241m=\u001b[39m options\u001b[38;5;241m.\u001b[39mget(\u001b[38;5;124m\"\u001b[39m\u001b[38;5;124mint96RebaseMode\u001b[39m\u001b[38;5;124m\"\u001b[39m, \u001b[38;5;28;01mNone\u001b[39;00m)\n\u001b[1;32m    521\u001b[0m \u001b[38;5;28mself\u001b[39m\u001b[38;5;241m.\u001b[39m_set_opts(\n\u001b[1;32m    522\u001b[0m     mergeSchema\u001b[38;5;241m=\u001b[39mmergeSchema,\n\u001b[1;32m    523\u001b[0m     pathGlobFilter\u001b[38;5;241m=\u001b[39mpathGlobFilter,\n\u001b[0;32m   (...)\u001b[0m\n\u001b[1;32m    528\u001b[0m     int96RebaseMode\u001b[38;5;241m=\u001b[39mint96RebaseMode,\n\u001b[1;32m    529\u001b[0m )\n\u001b[0;32m--> 531\u001b[0m \u001b[38;5;28;01mreturn\u001b[39;00m \u001b[38;5;28mself\u001b[39m\u001b[38;5;241m.\u001b[39m_df(\u001b[38;5;28;43mself\u001b[39;49m\u001b[38;5;241;43m.\u001b[39;49m\u001b[43m_jreader\u001b[49m\u001b[38;5;241;43m.\u001b[39;49m\u001b[43mparquet\u001b[49m\u001b[43m(\u001b[49m\u001b[43m_to_seq\u001b[49m\u001b[43m(\u001b[49m\u001b[38;5;28;43mself\u001b[39;49m\u001b[38;5;241;43m.\u001b[39;49m\u001b[43m_spark\u001b[49m\u001b[38;5;241;43m.\u001b[39;49m\u001b[43m_sc\u001b[49m\u001b[43m,\u001b[49m\u001b[43m \u001b[49m\u001b[43mpaths\u001b[49m\u001b[43m)\u001b[49m\u001b[43m)\u001b[49m)\n",
      "File \u001b[0;32m/opt/conda/lib/python3.11/site-packages/py4j/java_gateway.py:1322\u001b[0m, in \u001b[0;36mJavaMember.__call__\u001b[0;34m(self, *args)\u001b[0m\n\u001b[1;32m   1316\u001b[0m command \u001b[38;5;241m=\u001b[39m proto\u001b[38;5;241m.\u001b[39mCALL_COMMAND_NAME \u001b[38;5;241m+\u001b[39m\\\n\u001b[1;32m   1317\u001b[0m     \u001b[38;5;28mself\u001b[39m\u001b[38;5;241m.\u001b[39mcommand_header \u001b[38;5;241m+\u001b[39m\\\n\u001b[1;32m   1318\u001b[0m     args_command \u001b[38;5;241m+\u001b[39m\\\n\u001b[1;32m   1319\u001b[0m     proto\u001b[38;5;241m.\u001b[39mEND_COMMAND_PART\n\u001b[1;32m   1321\u001b[0m answer \u001b[38;5;241m=\u001b[39m \u001b[38;5;28mself\u001b[39m\u001b[38;5;241m.\u001b[39mgateway_client\u001b[38;5;241m.\u001b[39msend_command(command)\n\u001b[0;32m-> 1322\u001b[0m return_value \u001b[38;5;241m=\u001b[39m \u001b[43mget_return_value\u001b[49m\u001b[43m(\u001b[49m\n\u001b[1;32m   1323\u001b[0m \u001b[43m    \u001b[49m\u001b[43manswer\u001b[49m\u001b[43m,\u001b[49m\u001b[43m \u001b[49m\u001b[38;5;28;43mself\u001b[39;49m\u001b[38;5;241;43m.\u001b[39;49m\u001b[43mgateway_client\u001b[49m\u001b[43m,\u001b[49m\u001b[43m \u001b[49m\u001b[38;5;28;43mself\u001b[39;49m\u001b[38;5;241;43m.\u001b[39;49m\u001b[43mtarget_id\u001b[49m\u001b[43m,\u001b[49m\u001b[43m \u001b[49m\u001b[38;5;28;43mself\u001b[39;49m\u001b[38;5;241;43m.\u001b[39;49m\u001b[43mname\u001b[49m\u001b[43m)\u001b[49m\n\u001b[1;32m   1325\u001b[0m \u001b[38;5;28;01mfor\u001b[39;00m temp_arg \u001b[38;5;129;01min\u001b[39;00m temp_args:\n\u001b[1;32m   1326\u001b[0m     \u001b[38;5;28;01mif\u001b[39;00m \u001b[38;5;28mhasattr\u001b[39m(temp_arg, \u001b[38;5;124m\"\u001b[39m\u001b[38;5;124m_detach\u001b[39m\u001b[38;5;124m\"\u001b[39m):\n",
      "File \u001b[0;32m/opt/conda/lib/python3.11/site-packages/pyspark/errors/exceptions/captured.py:175\u001b[0m, in \u001b[0;36mcapture_sql_exception.<locals>.deco\u001b[0;34m(*a, **kw)\u001b[0m\n\u001b[1;32m    171\u001b[0m converted \u001b[38;5;241m=\u001b[39m convert_exception(e\u001b[38;5;241m.\u001b[39mjava_exception)\n\u001b[1;32m    172\u001b[0m \u001b[38;5;28;01mif\u001b[39;00m \u001b[38;5;129;01mnot\u001b[39;00m \u001b[38;5;28misinstance\u001b[39m(converted, UnknownException):\n\u001b[1;32m    173\u001b[0m     \u001b[38;5;66;03m# Hide where the exception came from that shows a non-Pythonic\u001b[39;00m\n\u001b[1;32m    174\u001b[0m     \u001b[38;5;66;03m# JVM exception message.\u001b[39;00m\n\u001b[0;32m--> 175\u001b[0m     \u001b[38;5;28;01mraise\u001b[39;00m converted \u001b[38;5;28;01mfrom\u001b[39;00m \u001b[38;5;28;01mNone\u001b[39;00m\n\u001b[1;32m    176\u001b[0m \u001b[38;5;28;01melse\u001b[39;00m:\n\u001b[1;32m    177\u001b[0m     \u001b[38;5;28;01mraise\u001b[39;00m\n",
      "\u001b[0;31mAnalysisException\u001b[0m: [PATH_NOT_FOUND] Path does not exist: file:/home/jovyan/prepared/24a7a8f5-35f0-4c3a-9e51-02c7f62f7f06/2023-01-04."
     ]
    }
   ],
   "source": [
    "# application_1 = 24a7a8f5-35f0-4c3a-9e51-02c7f62f7f06\n",
    "# 1178448 = 86ff5d12-55db-4bdf-a849-1b685bdff00b\n",
    "app_id = '24a7a8f5-35f0-4c3a-9e51-02c7f62f7f06'\n",
    "data_date = date(2023, 1, 5)\n",
    "logs_path = './prepared/'\n",
    "devices_path = 'devices/'\n",
    "update_devices_table(app_id, f'{data_date.strftime(\"%Y-%m-%d\")}', logs_path, devices_path)"
   ]
  },
  {
   "cell_type": "code",
   "execution_count": null,
   "id": "6169ea71-510a-4dde-8a19-039b4b78a308",
   "metadata": {},
   "outputs": [],
   "source": []
  }
 ],
 "metadata": {
  "kernelspec": {
   "display_name": "Python 3 (ipykernel)",
   "language": "python",
   "name": "python3"
  },
  "language_info": {
   "codemirror_mode": {
    "name": "ipython",
    "version": 3
   },
   "file_extension": ".py",
   "mimetype": "text/x-python",
   "name": "python",
   "nbconvert_exporter": "python",
   "pygments_lexer": "ipython3",
   "version": "3.11.4"
  }
 },
 "nbformat": 4,
 "nbformat_minor": 5
}
